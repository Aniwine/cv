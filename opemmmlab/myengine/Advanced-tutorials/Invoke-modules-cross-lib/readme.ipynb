{
 "cells": [
  {
   "cell_type": "markdown",
   "metadata": {},
   "source": [
    "跨库调用模块    \\\n",
    "在配置文件中使用custom_imports字段，然后在子模块中的type字段中加上作用域    \\\n",
    "作用域一般是导入模块的第一个值，比如导入为mmpretrain.models,作用域为mmpretrain"
   ]
  },
  {
   "cell_type": "code",
   "execution_count": null,
   "metadata": {},
   "outputs": [],
   "source": [
    "#跨库调用backbone\n",
    "# 使用 custom_imports 将 mmpretrain 的 models 添加进注册器\n",
    "custom_imports = dict(imports=['mmpretrain.models'], allow_failed_imports=False)\n",
    "\n",
    "model = dict(\n",
    "  type='MaskRCNN',\n",
    "  data_preprocessor=dict(...),\n",
    "  backbone=dict(\n",
    "      type='mmpretrain.ConvNeXt',  # 添加 mmpretrain 前缀完成跨库调用\n",
    "      arch='tiny',\n",
    "      out_indices=[0, 1, 2, 3],\n",
    "      drop_path_rate=0.4,\n",
    "      layer_scale_init_value=1.0,\n",
    "      gap_before_final_norm=False,\n",
    "      init_cfg=dict(\n",
    "          type='Pretrained',\n",
    "          checkpoint=\n",
    "          'https://download.openmmlab.com/mmclassification/v0/convnext/downstream/convnext-tiny_3rdparty_32xb128-noema_in1k_20220301-795e9634.pth',\n",
    "          prefix='backbone.')),\n",
    "  neck=dict(...),\n",
    "  rpn_head=dict(...))"
   ]
  },
  {
   "cell_type": "code",
   "execution_count": null,
   "metadata": {},
   "outputs": [],
   "source": [
    "#跨库调用transforms\n",
    "# 使用 custom_imports 将 mmdet 的 transforms 添加进注册器\n",
    "custom_imports = dict(imports=['mmdet.datasets.transforms'], allow_failed_imports=False)\n",
    "\n",
    "# 添加 mmdet 前缀完成跨库调用\n",
    "train_pipeline=[\n",
    "    dict(type='mmdet.LoadImageFromFile'),\n",
    "    dict(type='mmdet.LoadAnnotations', with_bbox=True, box_type='qbox'),\n",
    "    dict(type='ConvertBoxType', box_type_mapping=dict(gt_bboxes='rbox')),\n",
    "    dict(type='mmdet.Resize', scale=(1024, 2014), keep_ratio=True),\n",
    "    dict(type='mmdet.RandomFlip', prob=0.5),\n",
    "    dict(type='mmdet.PackDetInputs')\n",
    "]"
   ]
  },
  {
   "cell_type": "code",
   "execution_count": null,
   "metadata": {},
   "outputs": [],
   "source": [
    "#跨库调用算法（如一个检测器，YOLOX）\n",
    "# 使用 custom_imports 将 mmdet 的 models 添加进注册器\n",
    "# 需要将所有子模块都加上作用域前缀\n",
    "custom_imports = dict(imports=['mmdet.models'], allow_failed_imports=False)\n",
    "model = dict(\n",
    "    type='mmdet.YOLOX',\n",
    "    backbone=dict(type='mmdet.CSPDarknet', deepen_factor=1.33, widen_factor=1.25),\n",
    "    neck=dict(\n",
    "        type='mmdet.YOLOXPAFPN',\n",
    "        in_channels=[320, 640, 1280],\n",
    "        out_channels=320,\n",
    "        num_csp_blocks=4),\n",
    "    bbox_head=dict(\n",
    "        type='mmdet.YOLOXHead', num_classes=1, in_channels=320, feat_channels=320),\n",
    "    train_cfg=dict(assigner=dict(type='mmdet.SimOTAAssigner', center_radius=2.5)))\n",
    "\n",
    "#或者使用_scope_参数，将其下的所有子模块的作用域都锁定在指定参数下：\n",
    "# 使用 custom_imports 将 mmdet 的 models 添加进注册器\n",
    "custom_imports = dict(imports=['mmdet.models'], allow_failed_imports=False)\n",
    "model = dict(\n",
    "    _scope_='mmdet',  # 使用 _scope_ 关键字，避免给所有子模块添加前缀\n",
    "    type='YOLOX',\n",
    "    backbone=dict(type='CSPDarknet', deepen_factor=1.33, widen_factor=1.25),\n",
    "    neck=dict(\n",
    "        type='YOLOXPAFPN',\n",
    "        in_channels=[320, 640, 1280],\n",
    "        out_channels=320,\n",
    "        num_csp_blocks=4),\n",
    "    bbox_head=dict(\n",
    "        type='YOLOXHead', num_classes=1, in_channels=320, feat_channels=320),\n",
    "    train_cfg=dict(assigner=dict(type='SimOTAAssigner', center_radius=2.5)))\n"
   ]
  }
 ],
 "metadata": {
  "language_info": {
   "name": "python"
  },
  "orig_nbformat": 4
 },
 "nbformat": 4,
 "nbformat_minor": 2
}
