{
 "cells": [
  {
   "cell_type": "markdown",
   "metadata": {},
   "source": [
    "文件读写\n"
   ]
  },
  {
   "cell_type": "markdown",
   "metadata": {},
   "source": [
    "读取和保存数据"
   ]
  },
  {
   "cell_type": "code",
   "execution_count": null,
   "metadata": {},
   "outputs": [],
   "source": [
    "#从硬盘中读取\n",
    "from mmengine import load, dump\n",
    "\n",
    "# 从文件中读取数据\n",
    "data = load('test.json')\n",
    "data = load('test.yaml')\n",
    "data = load('test.pkl')\n",
    "# 从文件对象中读取数据\n",
    "with open('test.json', 'r') as f:\n",
    "    data = load(f, file_format='json')\n",
    "\n",
    "# 将数据序列化为字符串\n",
    "json_str = dump(data, file_format='json')\n",
    "\n",
    "# 将数据保存至文件 (根据文件名后缀反推文件类型)\n",
    "dump(data, 'out.pkl')\n",
    "\n",
    "# 将数据保存至文件对象\n",
    "with open('test.yaml', 'w') as f:\n",
    "    data = dump(data, f, file_format='yaml')\n",
    "\n",
    "#和python自带的load和dump十分相似，可以直接载入、载出文件，也可以作用于文件对象"
   ]
  },
  {
   "cell_type": "markdown",
   "metadata": {},
   "source": [
    "拓展支持的文件格式 \\\n",
    "写一个继承自 BaseFileHandler 的文件句柄，并使用一个或者多个文件格式来注册它"
   ]
  },
  {
   "cell_type": "code",
   "execution_count": null,
   "metadata": {},
   "outputs": [],
   "source": [
    "from mmengine import register_handler, BaseFileHandler\n",
    "\n",
    "# 为了注册多个文件格式，可以使用列表作为参数。\n",
    "# @register_handler(['txt', 'log'])\n",
    "@register_handler('txt')\n",
    "class TxtHandler1(BaseFileHandler):\n",
    "\n",
    "    def load_from_fileobj(self, file):\n",
    "        return file.read()\n",
    "\n",
    "    def dump_to_fileobj(self, obj, file):\n",
    "        file.write(str(obj))\n",
    "\n",
    "    def dump_to_str(self, obj, **kwargs):\n",
    "        return str(obj)\n",
    "    \n",
    "#支持pickle\n",
    "from mmengine import BaseFileHandler\n",
    "import pickle\n",
    "\n",
    "class PickleHandler(BaseFileHandler):\n",
    "\n",
    "    def load_from_fileobj(self, file, **kwargs):\n",
    "        return pickle.load(file, **kwargs)\n",
    "\n",
    "    def load_from_path(self, filepath, **kwargs):\n",
    "        return super(PickleHandler, self).load_from_path(\n",
    "            filepath, mode='rb', **kwargs)\n",
    "\n",
    "    def dump_to_str(self, obj, **kwargs):\n",
    "        kwargs.setdefault('protocol', 2)\n",
    "        return pickle.dumps(obj, **kwargs)\n",
    "\n",
    "    def dump_to_fileobj(self, obj, file, **kwargs):\n",
    "        kwargs.setdefault('protocol', 2)\n",
    "        pickle.dump(obj, file, **kwargs)\n",
    "\n",
    "    def dump_to_path(self, obj, filepath, **kwargs):\n",
    "        super(PickleHandler, self).dump_to_path(\n",
    "            obj, filepath, mode='wb', **kwargs)"
   ]
  },
  {
   "cell_type": "markdown",
   "metadata": {},
   "source": [
    "读取文件返回列表和字典  \\\n",
    "使用mmengine的list_from_file和dict_from_file接口 \\\n",
    "参考：https://mmengine.readthedocs.io/zh_CN/latest/advanced_tutorials/fileio.html#id5"
   ]
  },
  {
   "cell_type": "markdown",
   "metadata": {},
   "source": [
    "读取和保存权重文件"
   ]
  },
  {
   "cell_type": "code",
   "execution_count": null,
   "metadata": {},
   "outputs": [],
   "source": [
    "#pytorch风格，从不同的存储端需要使用不同的接口\n",
    "import torch\n",
    "\n",
    "filepath1 = '/path/of/your/checkpoint1.pth'\n",
    "filepath2 = 'http://path/of/your/checkpoint3.pth'\n",
    "\n",
    "# 从本地磁盘读取权重文件\n",
    "checkpoint = torch.load(filepath1)\n",
    "# 保存权重文件到本地磁盘\n",
    "torch.save(checkpoint, filepath1)\n",
    "\n",
    "# 从网络远端读取权重文件\n",
    "checkpoint = torch.utils.model_zoo.load_url(filepath2)"
   ]
  },
  {
   "cell_type": "code",
   "execution_count": null,
   "metadata": {},
   "outputs": [],
   "source": [
    "#mmengine风格，统一接口\n",
    "from mmengine import load_checkpoint, save_checkpoint\n",
    "\n",
    "filepath1 = '/path/of/your/checkpoint1.pth'\n",
    "filepath2 = 's3://bucket-name/path/of/your/checkpoint1.pth'\n",
    "filepath3 = 'http://path/of/your/checkpoint3.pth'\n",
    "\n",
    "# 从本地磁盘读取权重文件\n",
    "checkpoint = load_checkpoint(filepath1)\n",
    "# 保存权重文件到本地磁盘\n",
    "save_checkpoint(checkpoint, filepath1)\n",
    "\n",
    "# 从 s3 读取权重文件\n",
    "checkpoint = load_checkpoint(filepath2)\n",
    "# 保存权重文件到 s3\n",
    "save_checkpoint(checkpoint, filepath2)\n",
    "\n",
    "# 从网络远端读取权重文件\n",
    "checkpoint = load_checkpoint(filepath3)"
   ]
  }
 ],
 "metadata": {
  "kernelspec": {
   "display_name": "mmyolo",
   "language": "python",
   "name": "python3"
  },
  "language_info": {
   "name": "python",
   "version": "3.10.4"
  },
  "orig_nbformat": 4
 },
 "nbformat": 4,
 "nbformat_minor": 2
}
