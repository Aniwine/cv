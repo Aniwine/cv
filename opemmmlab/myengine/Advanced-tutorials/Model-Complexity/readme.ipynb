{
 "cells": [
  {
   "cell_type": "markdown",
   "metadata": {},
   "source": [
    "模型复杂度分析 \\\n",
    "\n",
    "给定输入尺寸 inputs = torch.randn((1, 3, 10, 10))，和一个卷积层 conv = nn.Conv2d(in_channels=3, out_channels=10, kernel_size=3)，那么它输出的特征图尺寸为 (1, 10, 8, 8)，则它的浮点运算量是 17280 = 10*8*8*3*3*3（1088 表示输出的特征图大小、333 表示每一个输出需要的计算量）、激活量是 640 = 10*8*8、参数量是 280 = 3*10*3*3 + 10（3103*3 表示权重的尺寸、10 表示偏置值的尺寸）\n",
    "\n",
    "激活量是指产生了多少个值"
   ]
  },
  {
   "cell_type": "code",
   "execution_count": 1,
   "metadata": {},
   "outputs": [
    {
     "name": "stderr",
     "output_type": "stream",
     "text": [
      "/root/anaconda3/envs/mmyolo/lib/python3.10/site-packages/tqdm/auto.py:21: TqdmWarning: IProgress not found. Please update jupyter and ipywidgets. See https://ipywidgets.readthedocs.io/en/stable/user_install.html\n",
      "  from .autonotebook import tqdm as notebook_tqdm\n"
     ]
    },
    {
     "data": {
      "text/html": [
       "<pre style=\"white-space:pre;overflow-x:auto;line-height:normal;font-family:Menlo,'DejaVu Sans Mono',consolas,'Courier New',monospace\"></pre>\n"
      ],
      "text/plain": []
     },
     "metadata": {},
     "output_type": "display_data"
    }
   ],
   "source": [
    "#继承nn.Module的模型\n",
    "from torch import nn\n",
    "\n",
    "from mmengine.analysis import get_model_complexity_info\n",
    "\n",
    "\n",
    "# 以字典的形式返回分析结果，包括:\n",
    "# ['flops', 'flops_str', 'activations', 'activations_str', 'params', 'params_str', 'out_table', 'out_arch']\n",
    "class InnerNet(nn.Module):\n",
    "    def __init__(self):\n",
    "        super().__init__()\n",
    "        self.fc1 = nn.Linear(10, 10)\n",
    "        self.fc2 = nn.Linear(10, 10)\n",
    "\n",
    "    def forward(self, x):\n",
    "        return self.fc1(self.fc2(x))\n",
    "\n",
    "\n",
    "class TestNet(nn.Module):\n",
    "    def __init__(self):\n",
    "        super().__init__()\n",
    "        self.fc1 = nn.Linear(10, 10)\n",
    "        self.fc2 = nn.Linear(10, 10)\n",
    "        self.inner = InnerNet()\n",
    "\n",
    "    def forward(self, x):\n",
    "        return self.fc1(self.fc2(self.inner(x)))\n",
    "\n",
    "\n",
    "input_shape = (1, 10)\n",
    "model = TestNet()\n",
    "\n",
    "analysis_results=get_model_complexity_info(model,input_shape)"
   ]
  },
  {
   "cell_type": "markdown",
   "metadata": {},
   "source": [
    "输出的结果有七个字段\\\n",
    "flops: flop 的总数, 例如, 1000, 1000000\\\n",
    "flops_str: 格式化的字符串, 例如, 1.0G, 1.0M\\\n",
    "params: 全部参数的数量, 例如, 1000, 1000000\\\n",
    "params_str: 格式化的字符串, 例如, 1.0K, 1M\\\n",
    "activations: 激活量的总数, 例如, 1000, 1000000\\\n",
    "activations_str: 格式化的字符串, 例如, 1.0G, 1M\\\n",
    "out_table: 以表格形式打印相关信息"
   ]
  },
  {
   "cell_type": "code",
   "execution_count": 2,
   "metadata": {},
   "outputs": [
    {
     "name": "stdout",
     "output_type": "stream",
     "text": [
      "\n",
      "+---------------------+----------------------+--------+--------------+\n",
      "|\u001b[1m \u001b[0m\u001b[1mmodule             \u001b[0m\u001b[1m \u001b[0m|\u001b[1m \u001b[0m\u001b[1m#parameters or shape\u001b[0m\u001b[1m \u001b[0m|\u001b[1m \u001b[0m\u001b[1m#flops\u001b[0m\u001b[1m \u001b[0m|\u001b[1m \u001b[0m\u001b[1m#activations\u001b[0m\u001b[1m \u001b[0m|\n",
      "+---------------------+----------------------+--------+--------------+\n",
      "| model               | 0.44K                | 0.4K   | 40           |\n",
      "|  fc1                |  0.11K               |  100   |  10          |\n",
      "|   fc1.weight        |   (10, 10)           |        |              |\n",
      "|   fc1.bias          |   (10,)              |        |              |\n",
      "|  fc2                |  0.11K               |  100   |  10          |\n",
      "|   fc2.weight        |   (10, 10)           |        |              |\n",
      "|   fc2.bias          |   (10,)              |        |              |\n",
      "|  inner              |  0.22K               |  0.2K  |  20          |\n",
      "|   inner.fc1         |   0.11K              |   100  |   10         |\n",
      "|    inner.fc1.weight |    (10, 10)          |        |              |\n",
      "|    inner.fc1.bias   |    (10,)             |        |              |\n",
      "|   inner.fc2         |   0.11K              |   100  |   10         |\n",
      "|    inner.fc2.weight |    (10, 10)          |        |              |\n",
      "|    inner.fc2.bias   |    (10,)             |        |              |\n",
      "+---------------------+----------------------+--------+--------------+\n",
      "\n"
     ]
    }
   ],
   "source": [
    "print(analysis_results['out_table'])"
   ]
  },
  {
   "cell_type": "code",
   "execution_count": 3,
   "metadata": {},
   "outputs": [
    {
     "name": "stdout",
     "output_type": "stream",
     "text": [
      "\n",
      "TestNet(\n",
      "  #params: 0.44K, #flops: 0.4K, #acts: 40\n",
      "  (fc1): Linear(\n",
      "    in_features=10, out_features=10, bias=True\n",
      "    #params: 0.11K, #flops: 100, #acts: 10\n",
      "  )\n",
      "  (fc2): Linear(\n",
      "    in_features=10, out_features=10, bias=True\n",
      "    #params: 0.11K, #flops: 100, #acts: 10\n",
      "  )\n",
      "  (inner): InnerNet(\n",
      "    #params: 0.22K, #flops: 0.2K, #acts: 20\n",
      "    (fc1): Linear(\n",
      "      in_features=10, out_features=10, bias=True\n",
      "      #params: 0.11K, #flops: 100, #acts: 10\n",
      "    )\n",
      "    (fc2): Linear(\n",
      "      in_features=10, out_features=10, bias=True\n",
      "      #params: 0.11K, #flops: 100, #acts: 10\n",
      "    )\n",
      "  )\n",
      ")\n"
     ]
    }
   ],
   "source": [
    "print(analysis_results['out_arch'])"
   ]
  },
  {
   "cell_type": "code",
   "execution_count": 4,
   "metadata": {},
   "outputs": [
    {
     "name": "stdout",
     "output_type": "stream",
     "text": [
      "08/31 07:19:54 - mmengine - \u001b[5m\u001b[4m\u001b[33mWARNING\u001b[0m - Unsupported operator aten::add_ encountered 69 time(s)\n",
      "08/31 07:19:54 - mmengine - \u001b[5m\u001b[4m\u001b[33mWARNING\u001b[0m - Unsupported operator aten::max_pool2d encountered 1 time(s)\n",
      "08/31 07:19:54 - mmengine - \u001b[5m\u001b[4m\u001b[33mWARNING\u001b[0m - The following submodules of the model were never called during the trace of the graph. They may be unused, or they were accessed by direct calls to .forward() or via other python methods. In the latter case they will have zeros for statistics, though their statistics will still contribute to their parent calling module.\n",
      "data_preprocessor\n",
      "08/31 07:19:54 - mmengine - \u001b[5m\u001b[4m\u001b[33mWARNING\u001b[0m - Unsupported operator aten::batch_norm encountered 53 time(s)\n",
      "08/31 07:19:54 - mmengine - \u001b[5m\u001b[4m\u001b[33mWARNING\u001b[0m - Unsupported operator aten::adaptive_avg_pool2d encountered 1 time(s)\n"
     ]
    },
    {
     "data": {
      "text/html": [
       "<pre style=\"white-space:pre;overflow-x:auto;line-height:normal;font-family:Menlo,'DejaVu Sans Mono',consolas,'Courier New',monospace\"></pre>\n"
      ],
      "text/plain": []
     },
     "metadata": {},
     "output_type": "display_data"
    },
    {
     "name": "stdout",
     "output_type": "stream",
     "text": [
      "Model Flops:4.145G\n",
      "Model Parameters:25.557M\n"
     ]
    }
   ],
   "source": [
    "#继承mmengine.models.BaseModel的模型\n",
    "#没感觉用法上有什么区别\n",
    "import torch.nn.functional as F\n",
    "import torchvision\n",
    "from mmengine.model import BaseModel\n",
    "from mmengine.analysis import get_model_complexity_info\n",
    "\n",
    "\n",
    "class MMResNet50(BaseModel):\n",
    "    def __init__(self):\n",
    "        super().__init__()\n",
    "        self.resnet = torchvision.models.resnet50()\n",
    "\n",
    "    def forward(self, imgs, labels=None, mode='tensor'):\n",
    "        x = self.resnet(imgs)\n",
    "        if mode == 'loss':\n",
    "            return {'loss': F.cross_entropy(x, labels)}\n",
    "        elif mode == 'predict':\n",
    "            return x, labels\n",
    "        elif mode == 'tensor':\n",
    "            return x\n",
    "\n",
    "\n",
    "input_shape = (3, 224, 224)\n",
    "model = MMResNet50()\n",
    "\n",
    "analysis_results = get_model_complexity_info(model, input_shape)\n",
    "\n",
    "print(\"Model Flops:{}\".format(analysis_results['flops_str']))\n",
    "# Model Flops:4.145G\n",
    "print(\"Model Parameters:{}\".format(analysis_results['params_str']))\n",
    "# Model Parameters:25.557M"
   ]
  }
 ],
 "metadata": {
  "kernelspec": {
   "display_name": "mmyolo",
   "language": "python",
   "name": "python3"
  },
  "language_info": {
   "codemirror_mode": {
    "name": "ipython",
    "version": 3
   },
   "file_extension": ".py",
   "mimetype": "text/x-python",
   "name": "python",
   "nbconvert_exporter": "python",
   "pygments_lexer": "ipython3",
   "version": "3.10.4"
  },
  "orig_nbformat": 4
 },
 "nbformat": 4,
 "nbformat_minor": 2
}
