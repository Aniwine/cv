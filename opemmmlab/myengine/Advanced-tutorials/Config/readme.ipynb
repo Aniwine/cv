{
 "cells": [
  {
   "cell_type": "code",
   "execution_count": 16,
   "metadata": {},
   "outputs": [
    {
     "name": "stdout",
     "output_type": "stream",
     "text": [
      "Config (path: /volume/opemmmlab/myengine/Advanced-tutorials/Config/tmp/config_sgd.py): {'optimizer': {'type': 'SGD', 'lr': 0.1, 'momentum': 0.9, 'weight_decay': 0.0001}}\n"
     ]
    }
   ],
   "source": [
    "from mmengine.registry import OPTIMIZERS\n",
    "from mmengine.config import Config\n",
    "import torch\n",
    "\n",
    "cfg=Config.fromfile('/volume/opemmmlab/myengine/Advanced-tutorials/Config/tmp/config_sgd.py')\n",
    "model=torch.nn.Conv2d(1,1,1)\n",
    "print(cfg)"
   ]
  },
  {
   "cell_type": "code",
   "execution_count": 17,
   "metadata": {},
   "outputs": [
    {
     "name": "stdout",
     "output_type": "stream",
     "text": [
      "Config (path: /volume/opemmmlab/myengine/Advanced-tutorials/Config/tmp/config_sgd.py): {'optimizer': {'type': 'SGD', 'lr': 0.1, 'momentum': 0.9, 'weight_decay': 0.0001, 'params': <generator object Module.parameters at 0x7ff78da85000>}}\n"
     ]
    }
   ],
   "source": [
    "cfg.optimizer.params=model.parameters()\n",
    "print(cfg)"
   ]
  },
  {
   "cell_type": "code",
   "execution_count": 18,
   "metadata": {},
   "outputs": [
    {
     "ename": "KeyError",
     "evalue": "'SGD is not in the optimizer registry. Please check whether the value of `SGD` is correct or it was registered as expected. More details can be found at https://mmengine.readthedocs.io/en/latest/advanced_tutorials/config.html#import-the-custom-module'",
     "output_type": "error",
     "traceback": [
      "\u001b[0;31m---------------------------------------------------------------------------\u001b[0m",
      "\u001b[0;31mKeyError\u001b[0m                                  Traceback (most recent call last)",
      "Cell \u001b[0;32mIn[18], line 1\u001b[0m\n\u001b[0;32m----> 1\u001b[0m optim\u001b[39m=\u001b[39mOPTIMIZERS\u001b[39m.\u001b[39;49mbuild(cfg\u001b[39m.\u001b[39;49moptimizer)\n\u001b[1;32m      2\u001b[0m \u001b[39mprint\u001b[39m(optim)\n",
      "File \u001b[0;32m~/anaconda3/envs/mmyolo/lib/python3.10/site-packages/mmengine/registry/registry.py:570\u001b[0m, in \u001b[0;36mRegistry.build\u001b[0;34m(self, cfg, *args, **kwargs)\u001b[0m\n\u001b[1;32m    548\u001b[0m \u001b[39mdef\u001b[39;00m \u001b[39mbuild\u001b[39m(\u001b[39mself\u001b[39m, cfg: \u001b[39mdict\u001b[39m, \u001b[39m*\u001b[39margs, \u001b[39m*\u001b[39m\u001b[39m*\u001b[39mkwargs) \u001b[39m-\u001b[39m\u001b[39m>\u001b[39m Any:\n\u001b[1;32m    549\u001b[0m \u001b[39m    \u001b[39m\u001b[39m\"\"\"Build an instance.\u001b[39;00m\n\u001b[1;32m    550\u001b[0m \n\u001b[1;32m    551\u001b[0m \u001b[39m    Build an instance by calling :attr:`build_func`.\u001b[39;00m\n\u001b[0;32m   (...)\u001b[0m\n\u001b[1;32m    568\u001b[0m \u001b[39m        >>> model = MODELS.build(cfg)\u001b[39;00m\n\u001b[1;32m    569\u001b[0m \u001b[39m    \"\"\"\u001b[39;00m\n\u001b[0;32m--> 570\u001b[0m     \u001b[39mreturn\u001b[39;00m \u001b[39mself\u001b[39;49m\u001b[39m.\u001b[39;49mbuild_func(cfg, \u001b[39m*\u001b[39;49margs, \u001b[39m*\u001b[39;49m\u001b[39m*\u001b[39;49mkwargs, registry\u001b[39m=\u001b[39;49m\u001b[39mself\u001b[39;49m)\n",
      "File \u001b[0;32m~/anaconda3/envs/mmyolo/lib/python3.10/site-packages/mmengine/registry/build_functions.py:100\u001b[0m, in \u001b[0;36mbuild_from_cfg\u001b[0;34m(cfg, registry, default_args)\u001b[0m\n\u001b[1;32m     98\u001b[0m     obj_cls \u001b[39m=\u001b[39m registry\u001b[39m.\u001b[39mget(obj_type)\n\u001b[1;32m     99\u001b[0m     \u001b[39mif\u001b[39;00m obj_cls \u001b[39mis\u001b[39;00m \u001b[39mNone\u001b[39;00m:\n\u001b[0;32m--> 100\u001b[0m         \u001b[39mraise\u001b[39;00m \u001b[39mKeyError\u001b[39;00m(\n\u001b[1;32m    101\u001b[0m             \u001b[39mf\u001b[39m\u001b[39m'\u001b[39m\u001b[39m{\u001b[39;00mobj_type\u001b[39m}\u001b[39;00m\u001b[39m is not in the \u001b[39m\u001b[39m{\u001b[39;00mregistry\u001b[39m.\u001b[39mname\u001b[39m}\u001b[39;00m\u001b[39m registry. \u001b[39m\u001b[39m'\u001b[39m\n\u001b[1;32m    102\u001b[0m             \u001b[39mf\u001b[39m\u001b[39m'\u001b[39m\u001b[39mPlease check whether the value of `\u001b[39m\u001b[39m{\u001b[39;00mobj_type\u001b[39m}\u001b[39;00m\u001b[39m` is \u001b[39m\u001b[39m'\u001b[39m\n\u001b[1;32m    103\u001b[0m             \u001b[39m'\u001b[39m\u001b[39mcorrect or it was registered as expected. More details \u001b[39m\u001b[39m'\u001b[39m\n\u001b[1;32m    104\u001b[0m             \u001b[39m'\u001b[39m\u001b[39mcan be found at \u001b[39m\u001b[39m'\u001b[39m\n\u001b[1;32m    105\u001b[0m             \u001b[39m'\u001b[39m\u001b[39mhttps://mmengine.readthedocs.io/en/latest/advanced_tutorials/config.html#import-the-custom-module\u001b[39m\u001b[39m'\u001b[39m  \u001b[39m# noqa: E501\u001b[39;00m\n\u001b[1;32m    106\u001b[0m         )\n\u001b[1;32m    107\u001b[0m \u001b[39m# this will include classes, functions, partial functions and more\u001b[39;00m\n\u001b[1;32m    108\u001b[0m \u001b[39melif\u001b[39;00m \u001b[39mcallable\u001b[39m(obj_type):\n",
      "\u001b[0;31mKeyError\u001b[0m: 'SGD is not in the optimizer registry. Please check whether the value of `SGD` is correct or it was registered as expected. More details can be found at https://mmengine.readthedocs.io/en/latest/advanced_tutorials/config.html#import-the-custom-module'"
     ]
    }
   ],
   "source": [
    "#在这jupyter里就会报错，但是py文件里不会\n",
    "optim=OPTIMIZERS.build(cfg.optimizer)\n",
    "print(optim)"
   ]
  },
  {
   "cell_type": "markdown",
   "metadata": {},
   "source": [
    "##### 继承保留字\n",
    "1. _base_,多个文件需要列表形式，且需要没有重合字段"
   ]
  },
  {
   "cell_type": "markdown",
   "metadata": {},
   "source": [
    "##### 修改继承字段\n",
    "1. 如某个字段继承自父文件，但是需要修改，只需要重新定义，如果该字段是嵌套字典，则只需要重新定义需要修改的子字段即可；但是如果该字段不是字典，重新定义则会完全覆盖"
   ]
  },
  {
   "cell_type": "markdown",
   "metadata": {},
   "source": [
    "##### 删除key\n",
    "1. 使用关键字_delete_,可以保证如果新定义的字段中没有的key，会从继承字段中全部删除（适用于字典字段）"
   ]
  },
  {
   "cell_type": "markdown",
   "metadata": {},
   "source": [
    "引用继承文件中的变量\n",
    "1. 使用a={{_base_.key}}的方式引用，适用于py，yaml，json文件，但如果想要修改引用的变量，不能使用a['key']=xxx的方式\n",
    "2. 使用a=_base_.key的方式，只适用py文件，且修改方式为a.key=xxx"
   ]
  },
  {
   "cell_type": "markdown",
   "metadata": {},
   "source": [
    "导出配置文件 \\\n",
    "使用cfg.dump(path)接口"
   ]
  },
  {
   "cell_type": "markdown",
   "metadata": {},
   "source": [
    "命令行传参修改配置文件\n",
    "1. 我的本意是想要在调用Config.fromfile()接口之前，修改某个字段，该字段为一个中间变量，让其他所有用这个字段的地方一起修改，因为Config.fromfile()接口会自动将所有用到的变量替换为字段.\n",
    "2. 但实际上这个办法也是在Config.fromfile()接口之后修改的，并不能够达到想要的效果\n",
    "3. 不过他确实可以通过命令行来动态修改配置文件的字段，用法即传入--cfg-options参数，后面接要修改的字段和修改后的值，如--cfg-options optimizer.lr=0.1 --cfg-options model.in_channels=\"[1, 1, 1]\"\n",
    "4. 如上他可以多次传入，且修改列表等必须要用引号引起来，另外要求读取配置文件的脚本需要argsparse添加action为DictAction的--cfg-options参数."
   ]
  },
  {
   "cell_type": "markdown",
   "metadata": {},
   "source": [
    "环境变量修改配置文件\n",
    "1. 这个方法是在调用Config.fromfile()接口之前，修改某个字段，该字段为一个中间变量，让其他所有用这个字段的地方一起修改，可以实现我的需求\n",
    "2. 用法是，{{$修改的变量:不传入时的默认值}}，如果是修改字符串，那么这样写data_root=\"{{$DATA_ROOT:/data/}}\"\n",
    "如果修改的不是字符串，则这样写data_root={{\"$classes:80\"}}"
   ]
  },
  {
   "cell_type": "markdown",
   "metadata": {},
   "source": [
    "导入自定义python模块\n",
    "这个功能是用在已经开发好的项目中，注册了新的模块，我们想在配置文件中通过dict的方式使用该模块的情况下\n",
    "使用配置文件的保留字段custom_imports"
   ]
  },
  {
   "cell_type": "markdown",
   "metadata": {},
   "source": [
    "跨项目继承和获取配置文件\n",
    "使用mmdet::的形式来指定继承或者获取哪个项目下的配置文件\n",
    "获取从mmengine.hub导入get_config和get_model接口"
   ]
  }
 ],
 "metadata": {
  "kernelspec": {
   "display_name": "mmyolo",
   "language": "python",
   "name": "python3"
  },
  "language_info": {
   "codemirror_mode": {
    "name": "ipython",
    "version": 3
   },
   "file_extension": ".py",
   "mimetype": "text/x-python",
   "name": "python",
   "nbconvert_exporter": "python",
   "pygments_lexer": "ipython3",
   "version": "3.10.4"
  },
  "orig_nbformat": 4
 },
 "nbformat": 4,
 "nbformat_minor": 2
}
