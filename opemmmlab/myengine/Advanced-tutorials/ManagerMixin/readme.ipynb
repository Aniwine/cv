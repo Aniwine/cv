{
 "cells": [
  {
   "cell_type": "markdown",
   "metadata": {},
   "source": [
    "全局管理器 \\\n",
    "\n",
    "用于管理全局变量（类） \\\n",
    "![关系图](./src/1.png) \\\n",
    "\n",
    "1. get_instance(name=’’, **kwargs)：创建或者返回对应名字的的实例。\n",
    "2. get_current_instance()：返回最近被创建的实例。\n",
    "3. instance_name：获取对应实例的 name。"
   ]
  },
  {
   "cell_type": "markdown",
   "metadata": {},
   "source": [
    "使用"
   ]
  },
  {
   "cell_type": "code",
   "execution_count": null,
   "metadata": {},
   "outputs": [],
   "source": [
    "#1.定义需要全局管理的类\n",
    "from mmengine.utils import ManagerMixin\n",
    "\n",
    "class GlobalClass(ManagerMixin):\n",
    "    def __init__(self,name,value): #name是必选参数且需要传给父类\n",
    "        super().__init__(name) \n",
    "        self.value=value\n",
    "\n",
    "#2.创建实例对象，可以在任何地方，如Hook\n",
    "from mmengine import Hook\n",
    "\n",
    "class CustomHook(Hook):\n",
    "    def before_run(self, runner):\n",
    "        GlobalClass.get_instance('mmengine', value=50) #没有mmengine的GlobalClass实例，所以会创建\n",
    "        GlobalClass.get_instance(runner.experiment_name, value=100)\n",
    "\n",
    "#3.访问创建的对象，可以在任何地方，如Hook\n",
    "import torch.nn as nn\n",
    "\n",
    "\n",
    "class CustomModule(nn.Module):\n",
    "    def forward(self, x):\n",
    "        value = GlobalClass.get_current_instance().value  # 最近一次被创建的实例 value 为 100（步骤二中按顺序创建）\n",
    "        value = GlobalClass.get_instance('mmengine').value  # 名为 mmengine 的实例 value 为 50\n",
    "        # value = GlobalClass.get_instance('mmengine', 1000).value  # mmengine 已经被创建，不能再接受额外参数"
   ]
  }
 ],
 "metadata": {
  "kernelspec": {
   "display_name": "Python 3.9.7 ('mmyolo')",
   "language": "python",
   "name": "python3"
  },
  "language_info": {
   "name": "python",
   "version": "3.9.7"
  },
  "orig_nbformat": 4,
  "vscode": {
   "interpreter": {
    "hash": "940063cc59a0c2d21681d7ac95c121a8937264e558270ac3e68c34e5b2668d53"
   }
  }
 },
 "nbformat": 4,
 "nbformat_minor": 2
}
