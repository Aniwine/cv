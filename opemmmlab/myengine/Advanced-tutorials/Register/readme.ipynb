{
 "cells": [
  {
   "cell_type": "code",
   "execution_count": 1,
   "metadata": {},
   "outputs": [
    {
     "name": "stderr",
     "output_type": "stream",
     "text": [
      "/root/anaconda3/envs/mmyolo/lib/python3.10/site-packages/tqdm/auto.py:21: TqdmWarning: IProgress not found. Please update jupyter and ipywidgets. See https://ipywidgets.readthedocs.io/en/stable/user_install.html\n",
      "  from .autonotebook import tqdm as notebook_tqdm\n"
     ]
    },
    {
     "name": "stdout",
     "output_type": "stream",
     "text": [
      "call Sigmoid.forward\n",
      "tensor([-2.0184])\n"
     ]
    }
   ],
   "source": [
    "#每个文件夹下的readme文件为测试文件\n",
    "from builder import ACTIVATIONS\n",
    "import torch\n",
    "\n",
    "cfg=dict(type='Sigmoid')\n",
    "#会使用默认的build_func函数\n",
    "sigmoid=ACTIVATIONS.build(cfg)\n",
    "out=sigmoid(torch.randn(1))\n",
    "print(out)"
   ]
  },
  {
   "cell_type": "code",
   "execution_count": 2,
   "metadata": {},
   "outputs": [
    {
     "name": "stdout",
     "output_type": "stream",
     "text": [
      "call mmengine LogSoftmax.forward\n",
      "tensor([0.2913])\n"
     ]
    }
   ],
   "source": [
    "from builder import ACTIVATIONS\n",
    "#调用父节点\n",
    "cfg=dict(type='mmengine.LogSoftmax')\n",
    "sigmoid=ACTIVATIONS.build(cfg)\n",
    "out=sigmoid(torch.randn(1))\n",
    "print(out)"
   ]
  },
  {
   "cell_type": "code",
   "execution_count": 3,
   "metadata": {},
   "outputs": [
    {
     "name": "stdout",
     "output_type": "stream",
     "text": [
      "call register LogSoftmax.forward\n",
      "tensor([2.0050])\n"
     ]
    }
   ],
   "source": [
    "cfg=dict(type='LogSoftmax')\n",
    "#调用节点\n",
    "sigmoid=ACTIVATIONS.build(cfg)\n",
    "out=sigmoid(torch.randn(1))\n",
    "print(out)"
   ]
  },
  {
   "cell_type": "code",
   "execution_count": 5,
   "metadata": {},
   "outputs": [
    {
     "name": "stdout",
     "output_type": "stream",
     "text": [
      "08/18 08:41:11 - mmengine - \u001b[5m\u001b[4m\u001b[33mWARNING\u001b[0m - Failed to import `config.registry` make sure the registry.py exists in `config` package.\n",
      "call config LogSoftmax.forward\n",
      "tensor([-1.8385])\n"
     ]
    }
   ],
   "source": [
    "#调用兄弟节点\n",
    "cfg=dict(type='LogSoftmax',_scope_='config')\n",
    "sigmoid=ACTIVATIONS.build(cfg)\n",
    "out=sigmoid(torch.randn(1))\n",
    "print(out)"
   ]
  }
 ],
 "metadata": {
  "kernelspec": {
   "display_name": "mmyolo",
   "language": "python",
   "name": "python3"
  },
  "language_info": {
   "codemirror_mode": {
    "name": "ipython",
    "version": 3
   },
   "file_extension": ".py",
   "mimetype": "text/x-python",
   "name": "python",
   "nbconvert_exporter": "python",
   "pygments_lexer": "ipython3",
   "version": "3.10.4"
  },
  "orig_nbformat": 4
 },
 "nbformat": 4,
 "nbformat_minor": 2
}
