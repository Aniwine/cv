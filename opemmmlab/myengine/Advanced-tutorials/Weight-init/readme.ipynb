{
 "cells": [
  {
   "cell_type": "markdown",
   "metadata": {},
   "source": [
    "pytorch中的模型都是继承自nn.Module，mmengine中继承BaseModule可以实现模型的自定义初始化，\\\n",
    "注意不是之前的mmengine.models.BaseModel，BaseModule是继承自nn.Module，BaseModel是继承自BaseModule。\\\n",
    "\n",
    "mmengine中常见的权重初始化方式参考:[权重初始化](https://mmengine.readthedocs.io/zh_CN/latest/advanced_tutorials/initialize.html#id2)"
   ]
  },
  {
   "cell_type": "code",
   "execution_count": null,
   "metadata": {},
   "outputs": [],
   "source": [
    "#加载预训练模型权重作为初始化，实例化模型时传入init_cfg选项指定初始化方式，后调用对象的init_weights方法完成初始化\n",
    "from mmengine.model import BaseModule\n",
    "import torch.nn as nn\n",
    "\n",
    "class MyToy(BaseModule):\n",
    "    def __init__(self,init_cfg=None):\n",
    "        super().__init__(init_cfg)\n",
    "        self.conv = nn.Conv2d(3,3,1)\n",
    "\n",
    "# from mmengine.registry import WEIGHT_INITIALIZERS \n",
    "# Predtrained 已经注册到WEIGHT_INITIALIZERS注册器中\n",
    "net=MyToy(init_cfg=dict(type='Pretrained', checkpoint='path or url to pretrained model'))\n",
    "net.init_weights()"
   ]
  },
  {
   "cell_type": "code",
   "execution_count": null,
   "metadata": {},
   "outputs": [],
   "source": [
    "# Pretained优先级最高\n",
    "# 一个模型不同组件采用不同初始化方式\n",
    "toy_net = MyToy(\n",
    "    init_cfg=[\n",
    "        dict(type='Kaiming', layer='Conv2d'),\n",
    "        dict(type='Xavier', layer='Linear')\n",
    "    ], )\n",
    "toy_net.init_weights()\n",
    "\n",
    "# 一个模型多个组件采用同一初始化方式\n",
    "toy_net = MyToy(init_cfg=[dict(type='Kaiming', layer=['Conv2d', 'Linear'])], )\n",
    "toy_net.init_weights()\n",
    "\n",
    "# 一个模型的一个组件里有两个同类型的模块，比如Conv2d，对每一个需要用不同的初始化策略\n",
    "# 对 conv1 做 Kaiming 初始化，对 从 conv2 做 Xavier 初始化\n",
    "toy_net = MyToy(\n",
    "    init_cfg=[\n",
    "        dict(\n",
    "            type='Kaiming',\n",
    "            layer=['Conv2d'],\n",
    "            override=dict(name='conv2', type='Xavier')),\n",
    "    ], )\n",
    "toy_net.init_weights()"
   ]
  },
  {
   "cell_type": "markdown",
   "metadata": {},
   "source": [
    "自定义的模块一般是不能用默认的初始化器初始化权重的，需要在自定义模块内部实现init_weights方法 \\\n",
    "当调用网络的init_weigths方法时，会递归的调用所有子模块的init_weights方法 \\\n",
    "配置init_cfg选项时，需要精细化控制每一种初始化方式的作用域"
   ]
  },
  {
   "cell_type": "code",
   "execution_count": null,
   "metadata": {},
   "outputs": [],
   "source": [
    "from mmengine.model import BaseModule\n",
    "import torch.nn as nn\n",
    "import torch\n",
    "\n",
    "class ToyConv(nn.Module):\n",
    "    def __init__(self):\n",
    "        super().__init__()\n",
    "        self.custom_weights=nn.Paramter(torch.empty(1,1,1,1))\n",
    "        self.custom_bias=nn.Parameter(torch.empty(1))\n",
    "\n",
    "    def init_weights(self):\n",
    "        with torch.no_grad():\n",
    "            self.custom_weights.data.fill_(1)\n",
    "            self.custom_bias.data.fill_(2)\n",
    "\n",
    "\n",
    "class ToyNet(BaseModule):\n",
    "    def __init__(self,init_cfg=None):\n",
    "        super().__init__(init_cfg)\n",
    "        self.conv1 = nn.Conv2d(3, 16, 3)\n",
    "        self.conv2 = nn.Conv2d(3, 16, 3)\n",
    "        self.custom_conv=ToyConv()\n",
    "    \n",
    "net=ToyNet(init_cfg=dict(\n",
    "    type='Kaiming',\n",
    "    layer=['Conv2d'],\n",
    "    override=dict(name='conv2', type='Xavier')\n",
    "\n",
    "))\n",
    "net.init_weights()\n",
    "# init_weights 的优先级比 init_cfg 高"
   ]
  },
  {
   "cell_type": "markdown",
   "metadata": {},
   "source": [
    "函数式初始化"
   ]
  },
  {
   "cell_type": "code",
   "execution_count": null,
   "metadata": {},
   "outputs": [],
   "source": [
    "# pytorch风格\n",
    "from torch.nn.init import normal_,constant_\n",
    "import torch.nn as nn\n",
    "\n",
    "model=nn.Conv2d(3,16,3)\n",
    "normal_(model.weight,mean=0,std=0.01)\n",
    "constant_(model.bias,val=0)"
   ]
  },
  {
   "cell_type": "code",
   "execution_count": null,
   "metadata": {},
   "outputs": [],
   "source": [
    "# mmengine风格\n",
    "from mmengine.model import normal_init,kaiming_init,xavier_init\n",
    "\n",
    "#weights和bias一起\n",
    "normal_init(model,mean=0,std=0.01,bias=0.)\n",
    "kaiming_init(model)\n",
    "xavier_init(model)"
   ]
  }
 ],
 "metadata": {
  "kernelspec": {
   "display_name": "mmyolo",
   "language": "python",
   "name": "python3"
  },
  "language_info": {
   "name": "python",
   "version": "3.10.4"
  },
  "orig_nbformat": 4
 },
 "nbformat": 4,
 "nbformat_minor": 2
}
