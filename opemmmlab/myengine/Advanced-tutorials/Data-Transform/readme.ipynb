{
 "cells": [
  {
   "cell_type": "markdown",
   "metadata": {},
   "source": [
    "数据集构建只是解析原始数据，数据增强在数据变换类，大部分都在mmcv中，输入和输出都是字典"
   ]
  },
  {
   "cell_type": "code",
   "execution_count": 4,
   "metadata": {},
   "outputs": [
    {
     "name": "stdout",
     "output_type": "stream",
     "text": [
      "(224, 224, 3)\n"
     ]
    }
   ],
   "source": [
    "from mmcv.transforms import Resize\n",
    "import numpy as np\n",
    "\n",
    "data_dict={'img':np.random.rand(256,256,3)}\n",
    "transform=Resize(scale=(224,224))\n",
    "data_dict=transform(data_dict)\n",
    "print(data_dict['img'].shape) "
   ]
  },
  {
   "cell_type": "markdown",
   "metadata": {},
   "source": [
    "![基本数据变换流程](./src/1.png) \\\n",
    "配置文件中组成列表传递给dataset的pipeline参数 \\\n",
    "完整的数据变换类请参考[数据变换](https://mmengine.readthedocs.io/zh_CN/latest/advanced_tutorials/data_transform.html)"
   ]
  },
  {
   "cell_type": "code",
   "execution_count": null,
   "metadata": {},
   "outputs": [],
   "source": [
    "test_dataloader = dict(\n",
    "    batch_size=32,\n",
    "    dataset=dict(\n",
    "        type='ImageNet',\n",
    "        data_root='data/imagenet',\n",
    "        pipeline = [\n",
    "            dict(type='LoadImageFromFile'),\n",
    "            dict(type='Resize', size=256, keep_ratio=True),\n",
    "            dict(type='CenterCrop', crop_size=224),\n",
    "            dict(type='PackClsInputs'),\n",
    "        ]\n",
    "    )\n",
    ")"
   ]
  },
  {
   "cell_type": "markdown",
   "metadata": {},
   "source": [
    "自定义数据变换类"
   ]
  },
  {
   "cell_type": "code",
   "execution_count": null,
   "metadata": {},
   "outputs": [],
   "source": [
    "import mmcv\n",
    "from mmcv.transforms import TRANSFORMS,BaseTransform\n",
    "\n",
    "@TRANSFORMS.register_module()\n",
    "class MyFlip(BaseTransform):\n",
    "    def __init__(self,direction):\n",
    "        super().__init__()\n",
    "        self.direction=direction\n",
    "    def transform(self,result):\n",
    "        img=result['img']\n",
    "        result['img']=mmcv.imflip(img,direction=self.direction)\n",
    "        return result"
   ]
  }
 ],
 "metadata": {
  "kernelspec": {
   "display_name": "mmyolo",
   "language": "python",
   "name": "python3"
  },
  "language_info": {
   "codemirror_mode": {
    "name": "ipython",
    "version": 3
   },
   "file_extension": ".py",
   "mimetype": "text/x-python",
   "name": "python",
   "nbconvert_exporter": "python",
   "pygments_lexer": "ipython3",
   "version": "3.10.4"
  },
  "orig_nbformat": 4
 },
 "nbformat": 4,
 "nbformat_minor": 2
}
