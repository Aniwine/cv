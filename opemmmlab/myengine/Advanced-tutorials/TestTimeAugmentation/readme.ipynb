{
 "cells": [
  {
   "cell_type": "markdown",
   "metadata": {},
   "source": [
    "测试时增强(TTA)\n",
    "1. TestTimeAug\n",
    "2. 模型推理及结果融合"
   ]
  },
  {
   "cell_type": "code",
   "execution_count": null,
   "metadata": {},
   "outputs": [],
   "source": [
    "#1.tta\n",
    "#为mmcv中TestTimeAug类，配置如下\n",
    "tta_pipeline = [\n",
    "    dict(type='LoadImageFromFile'),\n",
    "    dict(\n",
    "        type='TestTimeAug',\n",
    "        transforms=[\n",
    "            [dict(type='Resize', img_scale=(1333, 800), keep_ratio=True)],\n",
    "            [dict(type='RandomFlip', flip_ratio=0.),\n",
    "                dict(type='RandomFlip', flip_ratio=1.)],\n",
    "            [dict(type='PackXXXInputs', keys=['img'])],\n",
    "        ])\n",
    "]\n",
    "\n",
    "#注意翻转那里有两个配置，一个概率为0一个为1，则输入的图片将变成两张图像\n",
    "#得到的results结果将被包装成如下,注意是一张图为一个results\n",
    "#results=dict(\n",
    "# input=[...],\n",
    "# data_samples=[...]\n",
    "# )其中input和data_samples的长度都为2"
   ]
  },
  {
   "cell_type": "markdown",
   "metadata": {},
   "source": [
    "定义TTA模型融合策略"
   ]
  },
  {
   "cell_type": "code",
   "execution_count": null,
   "metadata": {},
   "outputs": [],
   "source": [
    "#模型的merge_pred方法接受的参数如下：\n",
    "# data_{i}_{j} 表示对第 i 张图片做第 j 种增强后的结果，\n",
    "# 例如 batch_size=3，那么 i 的 取值范围为 0，1，2，\n",
    "# 增强方式有 2 种（翻转），那么 j 的取值范围为 0，1\n",
    "\"\"\"\n",
    "bs=3\n",
    "demo_results = [\n",
    "    [data_0_0, data_0_1],\n",
    "    [data_1_0, data_1_1],\n",
    "    [data_2_0, data_2_1],\n",
    "]\n",
    "\"\"\"\n",
    "#这个结果和上述的有出入，应该是tta增强后还做了其他操作"
   ]
  },
  {
   "cell_type": "code",
   "execution_count": null,
   "metadata": {},
   "outputs": [],
   "source": [
    "from mmengine.model import BaseTTAModel\n",
    "from mmengine.structures import BaseDataElement\n",
    "from typing import List\n",
    "\n",
    "class ClsDataSample(BaseDataElement):\n",
    "    pass\n",
    "\n",
    "class AverageClsScoreTTA(BaseTTAModel):\n",
    "    def merge_preds(self,data_samples_list:List[List[ClsDataSample]])->List[ClsDataSample]:\n",
    "        merge_data_samples=[]\n",
    "        for data_samples in data_samples_list:\n",
    "            merge_data_sample:ClsDataSample=data_samples[0].new()#第一张图是原图\n",
    "            merge_score=sum(data_sample.pred_label.score for data_sample in data_samples) / len(data_samples)\n",
    "            merge_data_sample.set_pred_score=merge_score\n",
    "            merge_data_samples.append(merge_data_sample)\n",
    "        return merge_data_samples\n",
    "    \n",
    "#使用\n",
    "tta_model = dict(type='AverageClsScoreTTA')\n",
    "from mmengine.config import ConfigDict,Config\n",
    "\n",
    "cfg=Config.fromfile('...')\n",
    "cfg.model = ConfigDict(**cfg.tta_model, module=cfg.model)\n",
    "cfg.test_dataloader.dataset.pipeline = cfg.tta_pipeline"
   ]
  },
  {
   "cell_type": "markdown",
   "metadata": {},
   "source": [
    "![模型关系](./src/2.png) \\\n",
    "![调用堆栈顺序](./src/3.png)\n"
   ]
  },
  {
   "cell_type": "code",
   "execution_count": null,
   "metadata": {},
   "outputs": [],
   "source": [
    "#数据经过TTA数据增强后\n",
    "image1  = dict(\n",
    "    inputs=[data_1_1, data_1_2],\n",
    "    data_sample=[data_sample1_1, data_sample1_2]\n",
    ")\n",
    "\n",
    "image2  = dict(\n",
    "    inputs=[data_2_1, data_2_2],\n",
    "    data_sample=[data_sample2_1, data_sample2_2]\n",
    ")\n",
    "\n",
    "\n",
    "image3  = dict(\n",
    "    inputs=[data_3_1, data_3_2],\n",
    "    data_sample=[data_sample3_1, data_sample3_2]\n",
    ")\n",
    "#经过dataloader之后\n",
    "data_batch = dict(\n",
    "    inputs = [\n",
    "              (data_1_1, data_2_1, data_3_1),\n",
    "              (data_1_2, data_2_2, data_3_2),\n",
    "             ]\n",
    "    data_samples=[\n",
    "         (data_samples1_1, data_samples2_1, data_samples3_1),\n",
    "         (data_samples1_2, data_samples2_2, data_samples3_2)\n",
    "     ]\n",
    ")\n",
    "#推理之前BaseTTAModel会处理为\n",
    "data_batch_aug1 = dict(\n",
    "    inputs = (data_1_1, data_2_1, data_3_1),\n",
    "    data_samples=(data_samples1_1, data_samples2_1, data_samples3_1)\n",
    ")\n",
    "\n",
    "data_batch_aug2 = dict(\n",
    "    inputs = (data_1_2, data_2_2, data_3_2),\n",
    "    data_samples=(data_samples1_2, data_samples2_2, data_samples3_2)\n",
    ")\n",
    "#推理之后处理为，并送入融合模型\n",
    "preds = [\n",
    "    [data_samples1_1, data_samples_1_2],\n",
    "    [data_samples2_1, data_samples_2_2],\n",
    "    [data_samples3_1, data_samples_3_2],\n",
    "]"
   ]
  }
 ],
 "metadata": {
  "kernelspec": {
   "display_name": "mmyolo",
   "language": "python",
   "name": "python3"
  },
  "language_info": {
   "name": "python",
   "version": "3.10.4"
  },
  "orig_nbformat": 4
 },
 "nbformat": 4,
 "nbformat_minor": 2
}
