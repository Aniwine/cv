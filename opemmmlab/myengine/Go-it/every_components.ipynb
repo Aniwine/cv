{
 "cells": [
  {
   "cell_type": "code",
   "execution_count": 1,
   "metadata": {},
   "outputs": [
    {
     "data": {
      "text/plain": [
       "'\\n拆开每一个通用组件的内部\\n'"
      ]
     },
     "execution_count": 1,
     "metadata": {},
     "output_type": "execute_result"
    }
   ],
   "source": [
    "\"\"\"\n",
    "拆开每一个通用组件的内部\n",
    "\"\"\""
   ]
  },
  {
   "cell_type": "code",
   "execution_count": 2,
   "metadata": {},
   "outputs": [
    {
     "name": "stderr",
     "output_type": "stream",
     "text": [
      "d:\\condaenvs\\mmyolo\\lib\\site-packages\\tqdm\\auto.py:21: TqdmWarning: IProgress not found. Please update jupyter and ipywidgets. See https://ipywidgets.readthedocs.io/en/stable/user_install.html\n",
      "  from .autonotebook import tqdm as notebook_tqdm\n"
     ]
    },
    {
     "data": {
      "text/plain": [
       "mmengine.runner.log_processor.LogProcessor"
      ]
     },
     "execution_count": 2,
     "metadata": {},
     "output_type": "execute_result"
    }
   ],
   "source": [
    "\"\"\"\n",
    "log_processor = dict(type='LogProcessor', window_size=50, by_epoch=True)\n",
    "\"\"\"\n",
    "from mmengine.registry import LOG_PROCESSORS\n",
    "#必须导入被注册模块才会触发注册过程，也就是说要在哪里使用注册器注册，就必须先导入被注册模块\n",
    "#mmengine将其封装在Runner的init中，因为所有日志处理器都在这里构建\n",
    "#所以这个东西只对于使用配置文件有用，不然的话我为什么不直接导入模块呢？（我都知道模块的位置了）\n",
    "# 还要用注册器来搞一堆\n",
    "from mmengine.runner.log_processor import LogProcessor\n",
    "LOG_PROCESSORS._module_dict['LogProcessor']"
   ]
  }
 ],
 "metadata": {
  "kernelspec": {
   "display_name": "Python 3.9.7 ('mmyolo')",
   "language": "python",
   "name": "python3"
  },
  "language_info": {
   "codemirror_mode": {
    "name": "ipython",
    "version": 3
   },
   "file_extension": ".py",
   "mimetype": "text/x-python",
   "name": "python",
   "nbconvert_exporter": "python",
   "pygments_lexer": "ipython3",
   "version": "3.9.7"
  },
  "orig_nbformat": 4,
  "vscode": {
   "interpreter": {
    "hash": "940063cc59a0c2d21681d7ac95c121a8937264e558270ac3e68c34e5b2668d53"
   }
  }
 },
 "nbformat": 4,
 "nbformat_minor": 2
}
