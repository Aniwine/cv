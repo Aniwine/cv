{
 "cells": [
  {
   "cell_type": "markdown",
   "metadata": {},
   "source": [
    "##### 数据流的伪代码"
   ]
  },
  {
   "cell_type": "code",
   "execution_count": null,
   "metadata": {},
   "outputs": [],
   "source": [
    "#训练流\n",
    "for data_batch in train_dataloader:\n",
    "    data_batch=model.preprocessor(data_batch)\n",
    "    if isinstance(data_batch,dict):\n",
    "        losses=model(**data_batch,mode='loss')\n",
    "    elif isinstance(data_batch,(list,tuple)):\n",
    "        losses=model(*data_batch,mode='loss')\n",
    "    else:\n",
    "        raise TypeError()\n",
    "#验证流\n",
    "for data_batch in val_dataloader:\n",
    "    data_batch=model.preprocessor(data_batch)\n",
    "    if isinstance(data_batch,dict):\n",
    "        outputs=model(**data_batch,mode='predict')\n",
    "    elif isinstance(data_batch,(list,tuple)): \n",
    "        outputs=model(*data_batch,mode='predict')\n",
    "    else:\n",
    "        raise TypeError()\n",
    "    evaluator.process(data_samples=outputs,data_batch=data_batch)\n",
    "\n",
    "metrics=evaluator.evaluate(len(val_dataloader.dataset))"
   ]
  },
  {
   "cell_type": "markdown",
   "metadata": {},
   "source": [
    "1. 继承自BaseModel的模型需要实现forward方法；\n",
    "2. BaseModel内部实现了train_step、val_step和test_step方法，在三种方法的内部首先使用模型的数据预处理器\n",
    "    preprocessor将输入数据转换为模型输入的格式，然后调用forward方法,forward方法对数据源使用模型处理，根据mode参数\n",
    "    返回损失（训练流）、预测结果（验证流和测试流），然后在*_step方法内部处理forward的返回结果。"
   ]
  },
  {
   "cell_type": "markdown",
   "metadata": {},
   "source": [
    "##### 数据流的伪代码2"
   ]
  },
  {
   "cell_type": "code",
   "execution_count": null,
   "metadata": {},
   "outputs": [],
   "source": [
    "#训练流\n",
    "for data_batch in train_dataloader:\n",
    "    losses=model.train_step(data_batch)\n",
    "#验证流\n",
    "for data_batch in val_dataloader:\n",
    "    predicts=model.val_step(data_batch)\n",
    "    evaluator.process(data_samples=predicts,data_batch=data_batch)\n",
    "evaluator.evaluate(len(val_dataloader.dataset))"
   ]
  },
  {
   "cell_type": "markdown",
   "metadata": {},
   "source": [
    "##### 完整的模型内部数据流"
   ]
  },
  {
   "cell_type": "code",
   "execution_count": null,
   "metadata": {},
   "outputs": [],
   "source": [
    "import torch.nn.functional as F\n",
    "import torchvision\n",
    "from mmengine.model import BaseModel\n",
    "\n",
    "class MMResNet50(BaseModel):\n",
    "    def __init__(self):\n",
    "        super().__init__()\n",
    "        self.resnet50=torchvision.models.resnet50()\n",
    "    def forward(self,imgs):\n",
    "        pass\n",
    "\n",
    "    #BaseModel内部已经实现了这三个方法\n",
    "    def train_step(self,data_batch,optim_wrapper):\n",
    "        data_batch=self.data_preprocessor(data_batch)\n",
    "        losses=self.forward(*data_batch,mode='loss')#CIFAR10返回tuple\n",
    "        parsed_loss,log_vars=self.parse_losses(losses)\n",
    "        optim_wrapper.update_params(parsed_loss)    \n",
    "        return log_vars\n",
    "    \n",
    "    def val_step(self,data_batch,optim_wrapper):\n",
    "        data_batch=self.data_preprocessor(data_batch)\n",
    "        predicts=self.forward(*data_batch,mode='predict')\n",
    "        return predicts\n",
    "    \n",
    "    def test_step(self,data_batch,optim_wrapper):\n",
    "        data_batch=self.data_preprocessor(data_batch)\n",
    "        predicts=self.forward(*data_batch,mode='predict')\n",
    "        return predicts\n"
   ]
  },
  {
   "cell_type": "markdown",
   "metadata": {},
   "source": [
    "##### 数据预处理器（DataPreprocessor）\n",
    "1. 继承nn.Module，用于将数据搬运至指定设备，如GPU；\n",
    "2. 先搬运数据，再做归一化，因为归一化后是浮点数，空间更大，不利于搬运；\n",
    "3. 做批图像增强，单张图像的图像增强如翻转，裁剪等在transforms中做合适，而需要用到多张图像的融合时在这里做合适；\n",
    "4. dataloader的输出和模型输入不匹配时，可在此调整。"
   ]
  }
 ],
 "metadata": {
  "kernelspec": {
   "display_name": "mmyolo",
   "language": "python",
   "name": "python3"
  },
  "language_info": {
   "name": "python",
   "version": "3.10.4"
  },
  "orig_nbformat": 4
 },
 "nbformat": 4,
 "nbformat_minor": 2
}
