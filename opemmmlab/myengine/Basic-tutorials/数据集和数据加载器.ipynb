{
 "cells": [
  {
   "cell_type": "code",
   "execution_count": null,
   "metadata": {},
   "outputs": [],
   "source": [
    "from mmengine.runner import Runner\n",
    "from torchvision.datasets import CIFAR10\n",
    "from mmengine.model import BaseModel\n",
    "\n",
    "runner=Runner(train_dataloader=dict(\n",
    "        model=BaseModel(),\n",
    "        batch_size=32,\n",
    "        sampler=dict(\n",
    "            type='DefaultSampler',\n",
    "            shuffle=True,\n",
    "        ),\n",
    "        dataset=CIFAR10('./data/cifar10/'),\n",
    "        collate_fn=dict(type='default_collate'),\n",
    "        word_dir='./work_dir/'\n",
    "))"
   ]
  },
  {
   "cell_type": "markdown",
   "metadata": {},
   "source": [
    "1. sampler是mmengine里构造dataloader必须传入的参数，默认的DefaultSampler是采样器，用来从数据集中采取哪些样本组成\n",
    "一个批次\n",
    "2. collate_fn是用来将获取到的一个批次的样本转换为tensor，并且将数据按照batch维度拼接"
   ]
  },
  {
   "cell_type": "code",
   "execution_count": null,
   "metadata": {},
   "outputs": [],
   "source": [
    "from mmengine.registry import DATASETS,TRANSFORMS\n",
    "from mmengine.dataset.base_dataset import Compose\n",
    "import torchvision.transforms as tvt\n",
    "from torchvision.datasets import CIFAR10\n",
    "\n",
    "#注册数据集，预处理过程一并构建\n",
    "@DATASETS.register_module(name='Cifar10',force=False)\n",
    "def build_cifar10_transforms(transforms=None,**kwargs):\n",
    "    if isinstance(transforms,dict):\n",
    "        transforms=[transforms]\n",
    "    elif isinstance(transforms,(list,tuple)):\n",
    "        transforms=Compose(transforms)\n",
    "    return CIFAR10(**kwargs,transform=transforms)\n",
    "\n",
    "#注册torchvision中的transforms\n",
    "TRANSFORMS.register_module('RandomCrop',module=tvt.RandomCrop)\n",
    "TRANSFORMS.register_module('RandomHorizontalFlip',module=tvt.RandomHorizontalFlip)\n",
    "TRANSFORMS.register_module('ToTensor',module=tvt.ToTensor),\n",
    "TRANSFORMS.register_module('Normalize',module=tvt.Normalize)\n",
    "\n",
    "from mmengine.model import BaseModel\n",
    "\n",
    "class MyModel(BaseModel):\n",
    "    def _init__(self):\n",
    "        super().__init__()\n",
    "    \n",
    "    def forward(self,x):\n",
    "        pass\n",
    "from mmengine.runner import Runner\n",
    "runner=Runner(\n",
    "    model=MyModel(),\n",
    "    work_dir='./work_dirs',\n",
    "    train_dataloader=dict(\n",
    "        batch_size=32,\n",
    "        sampler=dict(type=\"DefaultSampler\",shuffle=True,\n",
    "                     collate_fn=dict(type='default_collate')),\n",
    "        dataset=dict(\n",
    "            type='Cifar10',\n",
    "            root='./data/cifar10/',\n",
    "            train=True,\n",
    "            download=True,\n",
    "            transform=[\n",
    "                dict(type='RandomCrop',size=32,padding=4),\n",
    "                dict(type='RandomHorizontalFlip'),\n",
    "                dict(type='ToTensor'),\n",
    "                dict(type='Normalize',mean=[0.4914, 0.4822, 0.4465],std=[0.2023, 0.1994, 0.2010]),\n",
    "            ]\n",
    "        )\n",
    "    ))\n",
    "\n"
   ]
  }
 ],
 "metadata": {
  "kernelspec": {
   "display_name": "mmyolo",
   "language": "python",
   "name": "python3"
  },
  "language_info": {
   "codemirror_mode": {
    "name": "ipython",
    "version": 3
   },
   "file_extension": ".py",
   "mimetype": "text/x-python",
   "name": "python",
   "nbconvert_exporter": "python",
   "pygments_lexer": "ipython3",
   "version": "3.10.4"
  },
  "orig_nbformat": 4
 },
 "nbformat": 4,
 "nbformat_minor": 2
}
