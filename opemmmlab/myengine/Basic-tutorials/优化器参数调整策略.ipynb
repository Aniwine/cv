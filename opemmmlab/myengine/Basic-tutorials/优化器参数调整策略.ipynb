{
 "cells": [
  {
   "cell_type": "markdown",
   "metadata": {},
   "source": [
    "使用单一的优化器调整策略"
   ]
  },
  {
   "cell_type": "code",
   "execution_count": null,
   "metadata": {},
   "outputs": [],
   "source": [
    "from torch.optim import SGD\n",
    "from mmengine.runner import Runner\n",
    "from mmengine.optim.scheduler import MultiStepLR\n",
    "import torch.nn as nn\n",
    "\n",
    "model=nn.Linear(10,10)\n",
    "optimizer=SGD(model.parameters(), lr=0.01, momentum=0.9)\n",
    "param_scheduler=MultiStepLR(optimizer, by_epoch=True,milestones=[8,11], gamma=0.1)\n",
    "runner=Runner(model, optim_wrapper=dict(type='OptimiWrapper',optimizer=optimizer),\n",
    "              param_scheduler=param_scheduler)"
   ]
  },
  {
   "cell_type": "markdown",
   "metadata": {},
   "source": [
    "by_epoch=True指示了学习率按照epoch更新，by_epoch=False表示按照iter更新，同时后面的milestones也对应epoch或者iter\n",
    "ga'mma=0.1表示学习率衰减为原来的0.1倍。\n",
    "使用iter更新学习率会更加平滑，但是epoch更新学习率更加直观，方便调整。\n",
    "可以传入by_epoch=True,让他自动转换为iter的更新方式"
   ]
  },
  {
   "cell_type": "code",
   "execution_count": null,
   "metadata": {},
   "outputs": [],
   "source": [
    "#手动配置\n",
    "epoch_length=len(train_dataloader)#表示一个epoch需要迭代的iter次数\n",
    "param_scheduler=MultiStepLR.build_iter_from_epoch(\n",
    "    optimizer,\n",
    "    by_epoch=True,\n",
    "    milestones=[8,11],\n",
    "    gamma=0.1\n",
    "    epoch_length=epoch_length\n",
    ")\n",
    "#配置文件写法\n",
    "param_scheduler=dict(type='MultiStepLR',\n",
    "                     by_epoch=True,\n",
    "                     milestones=[8,11],\n",
    "                     gamma=0.1,\n",
    "                     convert_to_iter_based=True)"
   ]
  },
  {
   "cell_type": "markdown",
   "metadata": {},
   "source": [
    "组合多个调度策略"
   ]
  },
  {
   "cell_type": "code",
   "execution_count": null,
   "metadata": {},
   "outputs": [],
   "source": [
    "#配置文件写法，直接将多个调度策略的配置组合成列表即可\n",
    "param_scheduler = [\n",
    "    # 线性学习率预热调度器\n",
    "    dict(type='LinearLR',\n",
    "         start_factor=0.001,\n",
    "         by_epoch=False,  # 按迭代更新学习率\n",
    "         begin=0,\n",
    "         end=50),  # 预热前 50 次迭代\n",
    "    # 主学习率调度器\n",
    "    dict(type='MultiStepLR',\n",
    "         by_epoch=True,  # 按轮次更新学习率\n",
    "         milestones=[8, 11],\n",
    "         gamma=0.1)\n",
    "]\n",
    "#注意这里增加了 begin 和 end 参数，这两个参数指定了调度器的生效区间。生效区间通常只在多个调度器组合时才需要去设置，\n",
    "# 使用单个调度器时可以忽略。当指定了 begin 和 end 参数时，表示该调度器只在 [begin, end) 区间内生效，\n",
    "# 其单位是由 by_epoch 参数决定\n",
    "\n",
    "# TODO 手动配置写法，不知道用哪个类"
   ]
  },
  {
   "cell_type": "markdown",
   "metadata": {},
   "source": [
    "动量调度策略"
   ]
  },
  {
   "cell_type": "code",
   "execution_count": null,
   "metadata": {},
   "outputs": [],
   "source": [
    "#配置文件写法，只需要将LR换成Momentum即可\n",
    "param_scheduler = [\n",
    "    # the lr scheduler\n",
    "    dict(type='LinearLR', ...),\n",
    "    # 动量调度器\n",
    "    dict(type='LinearMomentum',\n",
    "         start_factor=0.001,\n",
    "         by_epoch=False,\n",
    "         begin=0,\n",
    "         end=1000)\n",
    "]"
   ]
  },
  {
   "cell_type": "markdown",
   "metadata": {},
   "source": [
    "通用的参数调度器策略"
   ]
  },
  {
   "cell_type": "code",
   "execution_count": null,
   "metadata": {},
   "outputs": [],
   "source": [
    "#配置文件写法：将某类LR调度器的名字替换成Param即可\n",
    "param_scheduler = [\n",
    "    dict(type='LinearParamScheduler',\n",
    "         param_name='lr',  # 调度 `optimizer.param_groups` 中名为 'lr' 的变量\n",
    "         start_factor=0.001,\n",
    "         by_epoch=False,\n",
    "         begin=0,\n",
    "         end=1000)\n",
    "]"
   ]
  }
 ],
 "metadata": {
  "kernelspec": {
   "display_name": "mmyolo",
   "language": "python",
   "name": "python3"
  },
  "language_info": {
   "codemirror_mode": {
    "name": "ipython",
    "version": 3
   },
   "file_extension": ".py",
   "mimetype": "text/x-python",
   "name": "python",
   "nbconvert_exporter": "python",
   "pygments_lexer": "ipython3",
   "version": "3.10.4"
  },
  "orig_nbformat": 4
 },
 "nbformat": 4,
 "nbformat_minor": 2
}
