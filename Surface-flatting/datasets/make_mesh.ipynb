{
 "cells": [
  {
   "cell_type": "code",
   "execution_count": 1,
   "metadata": {},
   "outputs": [
    {
     "data": {
      "text/plain": [
       "'将100*100的网格再次下采样为50*50的网格,并生成uv坐标'"
      ]
     },
     "execution_count": 1,
     "metadata": {},
     "output_type": "execute_result"
    }
   ],
   "source": [
    "\"\"\"将100*100的网格再次下采样为50*50的网格,并生成uv坐标\"\"\""
   ]
  },
  {
   "cell_type": "code",
   "execution_count": 67,
   "metadata": {},
   "outputs": [],
   "source": [
    "import open3d as o3d\n",
    "file_path=r'D:\\project\\image_process\\Surface-flatting\\doc3D-renderer\\src_obj\\1_8.obj'\n",
    "mesh= o3d.io.read_triangle_mesh(file_path)\n",
    "mesh.compute_vertex_normals()\n",
    "o3d.visualization.draw_geometries([mesh])\n"
   ]
  },
  {
   "cell_type": "code",
   "execution_count": 68,
   "metadata": {},
   "outputs": [
    {
     "name": "stdout",
     "output_type": "stream",
     "text": [
      "TriangleMesh with 10000 points and 19602 triangles.\n",
      "58806\n",
      "(10000, 3)\n",
      "[ 1.029989   -0.74108499  0.22658899]\n",
      "(58806, 2)\n",
      "[[1.         0.        ]\n",
      " [1.         0.010101  ]\n",
      " [0.98989898 0.        ]\n",
      " [0.98989898 0.        ]\n",
      " [1.         0.010101  ]\n",
      " [0.98989898 0.010101  ]\n",
      " [1.         0.010101  ]\n",
      " [1.         0.020202  ]\n",
      " [0.98989898 0.010101  ]\n",
      " [0.98989898 0.010101  ]]\n"
     ]
    }
   ],
   "source": [
    "\"\"\"查看原始obj信息\"\"\"\n",
    "import numpy as np\n",
    "\n",
    "mesh_vertices=np.array(mesh.vertices)\n",
    "print(mesh)\n",
    "print(19602*3)\n",
    "print(mesh_vertices.shape)\n",
    "print(mesh_vertices[899])\n",
    "#他给的样例网格是有uv坐标的\n",
    "print(np.asarray(mesh.triangle_uvs).shape)\n",
    "print(np.asarray(mesh.triangle_uvs)[:10])"
   ]
  },
  {
   "cell_type": "code",
   "execution_count": 4,
   "metadata": {},
   "outputs": [
    {
     "name": "stdout",
     "output_type": "stream",
     "text": [
      "x max and min are:1.0597009658813477,-1.0438770055770874\n",
      "y max and min are:0.8721259832382202,-0.8661559820175171\n",
      "z max and min are:0.2705099880695343,-0.17642100155353546\n"
     ]
    }
   ],
   "source": [
    "x_max,x_min=max(mesh_vertices[:,0]),min(mesh_vertices[:,0])\n",
    "print(f\"x max and min are:{x_max},{x_min}\")\n",
    "y_max,y_min=max(mesh_vertices[:,1]),min(mesh_vertices[:,1])\n",
    "print(f\"y max and min are:{y_max},{y_min}\")\n",
    "z_max,z_min=max(mesh_vertices[:,2]),min(mesh_vertices[:,2])\n",
    "print(f\"z max and min are:{z_max},{z_min}\")"
   ]
  },
  {
   "cell_type": "code",
   "execution_count": 6,
   "metadata": {},
   "outputs": [],
   "source": [
    "#对网格二次采样为50*50大小，50*50是指在水平面上的大小\n",
    "#沿着x轴均匀采样50个点，均匀即采样点间隔一样，再沿着y轴再采样50，则共2500\n",
    "#相当于从俯视的角度采样\n",
    "pcd_u=mesh.sample_points_uniformly(number_of_points=2500)\n",
    "o3d.visualization.draw_geometries([pcd_u])"
   ]
  },
  {
   "cell_type": "code",
   "execution_count": 7,
   "metadata": {},
   "outputs": [],
   "source": [
    "distances = pcd_u.compute_nearest_neighbor_distance()\n",
    "avg_dist = np.mean(distances)\n",
    "radius = 3 * avg_dist\n",
    "mesh_u=o3d.geometry.TriangleMesh.create_from_point_cloud_ball_pivoting(pcd_u,o3d.utility.DoubleVector([radius, radius * 2]))\n",
    "o3d.visualization.draw_geometries([mesh_u])"
   ]
  },
  {
   "cell_type": "code",
   "execution_count": 8,
   "metadata": {},
   "outputs": [
    {
     "name": "stdout",
     "output_type": "stream",
     "text": [
      "TriangleMesh with 2500 points and 4893 triangles.\n",
      "(0, 2)\n"
     ]
    }
   ],
   "source": [
    "\"\"\"\"\n",
    "uv坐标的含义是：\n",
    "将3d mesh映射到2d纹理图上的坐标，3d mesh上的每一个顶点都有一个uv值，所以他的shape是\n",
    "3*triangles,2，即每个三角形的每个顶点有的一对二维坐标(u,v)\n",
    "\"\"\"\n",
    "print(mesh_u)\n",
    "#采样生成的网格是没有uv坐标的\n",
    "print(np.asarray(mesh_u.triangle_uvs).shape)"
   ]
  },
  {
   "cell_type": "code",
   "execution_count": 9,
   "metadata": {},
   "outputs": [
    {
     "name": "stdout",
     "output_type": "stream",
     "text": [
      "[0 1 2] [2 1 3]\n",
      "[[-1.01677406 -0.859007    0.265349  ]\n",
      " [-1.00517297 -0.85920501  0.257806  ]\n",
      " [-1.01674199 -0.848427    0.265775  ]]\n",
      "[[-1.01674199 -0.848427    0.265775  ]\n",
      " [-1.00517297 -0.85920501  0.257806  ]\n",
      " [-1.00511503 -0.84866798  0.25859499]]\n"
     ]
    }
   ],
   "source": [
    "#构造三角形的顶点集合，该集合大于mesh的所有点集合，因为很多点是重复被使用的\n",
    "#先看官方样例的triangles是不是索引\n",
    "idx_1=mesh.triangles[0]\n",
    "idx_2=mesh.triangles[1]\n",
    "print(idx_1,idx_2)\n",
    "print(mesh_vertices[idx_1])\n",
    "print(mesh_vertices[idx_2])"
   ]
  },
  {
   "cell_type": "code",
   "execution_count": 10,
   "metadata": {},
   "outputs": [
    {
     "name": "stdout",
     "output_type": "stream",
     "text": [
      "(14679, 3) 14664\n"
     ]
    }
   ],
   "source": [
    "triangle_vetices_indexs=np.asarray(mesh_u.triangles)\n",
    "mesh_u_vertices=np.asarray(mesh_u.vertices)\n",
    "triangle_vetices=np.array([mesh_u_vertices[idx] for idx in triangle_vetices_indexs]).reshape(-1,3)\n",
    "print(triangle_vetices.shape,4888*3)"
   ]
  },
  {
   "cell_type": "code",
   "execution_count": 11,
   "metadata": {},
   "outputs": [],
   "source": [
    "#插值计算uv坐标\n",
    "#四个角点\n",
    "uv_coords=np.array([[0,0],[0,1],[1,0],[1,1]])\n",
    "#需要计算的插值点数\n",
    "n_vertices=triangle_vetices.shape[0]\n",
    "#初始化插值uv坐标\n",
    "interpolated_uv_coords=np.zeros((n_vertices,2))\n",
    "\n",
    "#计算所有顶点的x，y范围\n",
    "x_range=np.max(triangle_vetices[:,0])-np.min(triangle_vetices[:,0])\n",
    "y_range=np.max(triangle_vetices[:,1])-np.min(triangle_vetices[:,1])\n",
    "for i in range(n_vertices):\n",
    "\n",
    "    #计算每个顶点的x，y坐标的归一化值\n",
    "    x_normalized=(triangle_vetices[i,0]-np.min(triangle_vetices[:,0]))/x_range\n",
    "    y_normalized=(triangle_vetices[i,1]-np.min(triangle_vetices[:,1]))/y_range\n",
    "\n",
    "    #根据归一化坐标进行插值\n",
    "    interpolated_uv_coords[i,0]=uv_coords[0,0]+x_normalized*(uv_coords[2,0]-uv_coords[0,0])\n",
    "    interpolated_uv_coords[i,1]=uv_coords[0,1]+y_normalized*(uv_coords[1,1]-uv_coords[0,1])\n",
    "\n",
    "#将插值结果赋给mesh_u\n",
    "mesh_u.triangle_uvs=o3d.utility.Vector2dVector(interpolated_uv_coords)"
   ]
  },
  {
   "cell_type": "code",
   "execution_count": 12,
   "metadata": {},
   "outputs": [
    {
     "name": "stdout",
     "output_type": "stream",
     "text": [
      "(14679, 2)\n"
     ]
    }
   ],
   "source": [
    "print(np.asarray(mesh_u.triangle_uvs).shape)"
   ]
  },
  {
   "cell_type": "code",
   "execution_count": 2,
   "metadata": {},
   "outputs": [
    {
     "data": {
      "text/plain": [
       "'网格增强与对齐'"
      ]
     },
     "execution_count": 2,
     "metadata": {},
     "output_type": "execute_result"
    }
   ],
   "source": [
    "\"\"\"网格增强与对齐，以下使用100*100的网格\"\"\""
   ]
  },
  {
   "cell_type": "code",
   "execution_count": 11,
   "metadata": {},
   "outputs": [
    {
     "data": {
      "text/plain": [
       "'通过使用网格旋转,拼接的方式生成翻转点云，最后再生成网格'"
      ]
     },
     "execution_count": 11,
     "metadata": {},
     "output_type": "execute_result"
    }
   ],
   "source": [
    "\"\"\"通过使用网格旋转,拼接的方式生成翻转点云，最后再生成网格\"\"\""
   ]
  },
  {
   "cell_type": "code",
   "execution_count": 14,
   "metadata": {},
   "outputs": [],
   "source": [
    "import copy\n",
    "pcd=mesh.sample_points_uniformly(10000)"
   ]
  },
  {
   "cell_type": "code",
   "execution_count": 15,
   "metadata": {},
   "outputs": [
    {
     "name": "stdout",
     "output_type": "stream",
     "text": [
      "[['D:\\\\project\\\\image_process\\\\Surface-flatting\\\\doc3D-renderer\\\\tex\\\\r_1.jpg'], ['D:\\\\project\\\\image_process\\\\Surface-flatting\\\\doc3D-renderer\\\\tex\\\\r_2.jpg'], ['D:\\\\project\\\\image_process\\\\Surface-flatting\\\\doc3D-renderer\\\\tex\\\\r_3.jpg'], ['D:\\\\project\\\\image_process\\\\Surface-flatting\\\\doc3D-renderer\\\\tex\\\\r_4.jpg'], ['D:\\\\project\\\\image_process\\\\Surface-flatting\\\\doc3D-renderer\\\\tex\\\\r_5.jpg'], ['D:\\\\project\\\\image_process\\\\Surface-flatting\\\\doc3D-renderer\\\\tex\\\\r_6.jpg'], ['D:\\\\project\\\\image_process\\\\Surface-flatting\\\\doc3D-renderer\\\\tex\\\\r_7.jpg'], ['D:\\\\project\\\\image_process\\\\Surface-flatting\\\\doc3D-renderer\\\\tex\\\\r_8.jpg'], ['D:\\\\project\\\\image_process\\\\Surface-flatting\\\\doc3D-renderer\\\\tex\\\\r_9.jpg'], ['D:\\\\project\\\\image_process\\\\Surface-flatting\\\\doc3D-renderer\\\\tex\\\\r_10.jpg'], ['D:\\\\project\\\\image_process\\\\Surface-flatting\\\\doc3D-renderer\\\\tex\\\\r_11.jpg'], ['D:\\\\project\\\\image_process\\\\Surface-flatting\\\\doc3D-renderer\\\\tex\\\\r_12.jpg'], ['D:\\\\project\\\\image_process\\\\Surface-flatting\\\\doc3D-renderer\\\\tex\\\\r_13.jpg'], ['D:\\\\project\\\\image_process\\\\Surface-flatting\\\\doc3D-renderer\\\\tex\\\\r_14.jpg']]\n"
     ]
    }
   ],
   "source": [
    "import csv\n",
    "tex_list=r'D:\\project\\image_process\\Surface-flatting\\doc3D-renderer\\tex.csv'\n",
    "with open(tex_list,'r') as t:\n",
    "    texlist=list(csv.reader(t))\n",
    "    print(texlist)"
   ]
  },
  {
   "cell_type": "code",
   "execution_count": 18,
   "metadata": {},
   "outputs": [
    {
     "data": {
      "text/plain": [
       "0"
      ]
     },
     "execution_count": 18,
     "metadata": {},
     "output_type": "execute_result"
    }
   ],
   "source": [
    "import random\n",
    "random.randint(0,2)"
   ]
  },
  {
   "cell_type": "code",
   "execution_count": 24,
   "metadata": {},
   "outputs": [
    {
     "data": {
      "text/plain": [
       "'以下是使用上述代码构建长方体的100*100网格'"
      ]
     },
     "execution_count": 24,
     "metadata": {},
     "output_type": "execute_result"
    }
   ],
   "source": [
    "\"\"\"以下是使用上述代码构建长方体的100*100网格\"\"\""
   ]
  },
  {
   "cell_type": "code",
   "execution_count": 8,
   "metadata": {},
   "outputs": [],
   "source": [
    "import open3d as o3d\n",
    "import numpy as np\n",
    "\n",
    "# 生成100x100的网格坐标\n",
    "x = np.linspace(0, 1, 100)\n",
    "y = np.linspace(0, 1, 100)\n",
    "xx, yy = np.meshgrid(x, y)\n",
    "grid_coordinates = np.vstack((xx.ravel(), yy.ravel(), np.zeros_like(xx.ravel()))).T\n",
    "\n",
    "# 创建点云\n",
    "point_cloud = o3d.geometry.PointCloud()\n",
    "point_cloud.points = o3d.utility.Vector3dVector(grid_coordinates)\n",
    "\n",
    "# 创建三维网格\n",
    "triangles = []\n",
    "for i in range(99):\n",
    "    for j in range(99):\n",
    "        vertex1 = i * 100 + j\n",
    "        vertex2 = i * 100 + j + 1\n",
    "        vertex3 = (i + 1) * 100 + j\n",
    "        vertex4 = (i + 1) * 100 + j + 1\n",
    "        triangles.append([vertex1, vertex2, vertex3])\n",
    "        triangles.append([vertex2, vertex4, vertex3])\n",
    "\n",
    "mesh = o3d.geometry.TriangleMesh()\n",
    "mesh.vertices = point_cloud.points\n",
    "mesh.triangles = o3d.utility.Vector3iVector(triangles)\n",
    "\n",
    "# 可视化点云和三维网格\n",
    "o3d.visualization.draw_geometries([mesh])\n"
   ]
  },
  {
   "cell_type": "code",
   "execution_count": 9,
   "metadata": {},
   "outputs": [
    {
     "name": "stdout",
     "output_type": "stream",
     "text": [
      "TriangleMesh with 10000 points and 19602 triangles.\n"
     ]
    }
   ],
   "source": [
    "print(mesh)"
   ]
  },
  {
   "cell_type": "code",
   "execution_count": 10,
   "metadata": {},
   "outputs": [
    {
     "name": "stdout",
     "output_type": "stream",
     "text": [
      "(58806, 3) 58806\n"
     ]
    }
   ],
   "source": [
    "triangle_vetices_indexs=np.asarray(mesh.triangles)\n",
    "mesh_vertices=np.asarray(mesh.vertices)\n",
    "triangle_vetices=np.array([mesh_vertices[idx] for idx in triangle_vetices_indexs]).reshape(-1,3)\n",
    "print(triangle_vetices.shape,19602*3)"
   ]
  },
  {
   "cell_type": "code",
   "execution_count": 11,
   "metadata": {},
   "outputs": [],
   "source": [
    "#插值计算uv坐标\n",
    "#四个角点\n",
    "uv_coords=np.array([[0,0],[0,1],[1,0],[1,1]])\n",
    "#需要计算的插值点数\n",
    "n_vertices=triangle_vetices.shape[0]\n",
    "#初始化插值uv坐标\n",
    "interpolated_uv_coords=np.zeros((n_vertices,2))\n",
    "\n",
    "#计算所有顶点的x，y范围\n",
    "x_range=np.max(triangle_vetices[:,0])-np.min(triangle_vetices[:,0])\n",
    "y_range=np.max(triangle_vetices[:,1])-np.min(triangle_vetices[:,1])\n",
    "for i in range(n_vertices):\n",
    "\n",
    "    #计算每个顶点的x，y坐标的归一化值\n",
    "    x_normalized=(triangle_vetices[i,0]-np.min(triangle_vetices[:,0]))/x_range\n",
    "    y_normalized=(triangle_vetices[i,1]-np.min(triangle_vetices[:,1]))/y_range\n",
    "\n",
    "    #根据归一化坐标进行插值\n",
    "    interpolated_uv_coords[i,0]=uv_coords[0,0]+x_normalized*(uv_coords[2,0]-uv_coords[0,0])\n",
    "    interpolated_uv_coords[i,1]=uv_coords[0,1]+y_normalized*(uv_coords[1,1]-uv_coords[0,1])\n",
    "\n",
    "#将插值结果赋给mesh_u\n",
    "mesh.triangle_uvs=o3d.utility.Vector2dVector(interpolated_uv_coords)"
   ]
  },
  {
   "cell_type": "code",
   "execution_count": 5,
   "metadata": {},
   "outputs": [
    {
     "name": "stdout",
     "output_type": "stream",
     "text": [
      "(58806, 2)\n"
     ]
    }
   ],
   "source": [
    "print(np.asarray(mesh.triangle_uvs).shape)"
   ]
  },
  {
   "cell_type": "code",
   "execution_count": 12,
   "metadata": {},
   "outputs": [
    {
     "data": {
      "text/plain": [
       "True"
      ]
     },
     "execution_count": 12,
     "metadata": {},
     "output_type": "execute_result"
    }
   ],
   "source": [
    "o3d.io.write_triangle_mesh(r\"D:\\project\\image_process\\Surface-flatting\\doc3D-renderer\\obj\\rec.obj\", mesh)"
   ]
  },
  {
   "cell_type": "code",
   "execution_count": 17,
   "metadata": {},
   "outputs": [
    {
     "data": {
      "text/plain": [
       "-1"
      ]
     },
     "execution_count": 17,
     "metadata": {},
     "output_type": "execute_result"
    }
   ],
   "source": [
    "import cv2\n",
    "hdr_img=cv2.imread(r\"D:\\project\\image_process\\Surface-flatting\\doc3D-renderer\\env\\0011.hdr\",cv2.IMREAD_ANYDEPTH | cv2.IMREAD_COLOR)\n",
    "cv2.imshow('aa',hdr_img)\n",
    "cv2.waitKey()\n"
   ]
  }
 ],
 "metadata": {
  "kernelspec": {
   "display_name": "Python 3.9.7 ('mmyolo')",
   "language": "python",
   "name": "python3"
  },
  "language_info": {
   "codemirror_mode": {
    "name": "ipython",
    "version": 3
   },
   "file_extension": ".py",
   "mimetype": "text/x-python",
   "name": "python",
   "nbconvert_exporter": "python",
   "pygments_lexer": "ipython3",
   "version": "3.9.7"
  },
  "orig_nbformat": 4,
  "vscode": {
   "interpreter": {
    "hash": "940063cc59a0c2d21681d7ac95c121a8937264e558270ac3e68c34e5b2668d53"
   }
  }
 },
 "nbformat": 4,
 "nbformat_minor": 2
}
